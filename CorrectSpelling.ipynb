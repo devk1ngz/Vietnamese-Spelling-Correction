{
  "cells": [
    {
      "cell_type": "markdown",
      "id": "9b98ebc8-24c3-4abe-905a-7a763399da9f",
      "metadata": {
        "id": "9b98ebc8-24c3-4abe-905a-7a763399da9f"
      },
      "source": [
        "# 1. Load mô hình và các thư viện cần dùng"
      ]
    },
    {
      "cell_type": "code",
      "execution_count": null,
      "id": "81b49f35-d048-447a-8f59-35c822451bc1",
      "metadata": {
        "colab": {
          "base_uri": "https://localhost:8080/"
        },
        "id": "81b49f35-d048-447a-8f59-35c822451bc1",
        "outputId": "59e1abe3-d58b-434c-ffa4-5661f6a21ed0"
      },
      "outputs": [
        {
          "output_type": "stream",
          "name": "stderr",
          "text": [
            "WARNING:absl:Compiled the loaded model, but the compiled metrics have yet to be built. `model.compile_metrics` will be empty until you train or evaluate the model.\n"
          ]
        }
      ],
      "source": [
        "from collections import Counter\n",
        "from keras.models import load_model\n",
        "import nltk\n",
        "import numpy as np\n",
        "import re\n",
        "\n",
        "model = load_model('/content/drive/MyDrive/spellcheck_model.h5')\n",
        "\n",
        "NGRAM = 5\n",
        "MAXLEN = 39\n",
        "\n",
        "# Các ký tự có thể xuất hiện trong encoder\n",
        "vowel = list(\n",
        "    'aAăĂâÂáÁàÀảẢãÃạẠắẮằẰẳẲẵẴặẶấẤầẦẩẨẫẪậẬ'\n",
        "    'eEêÊéÉèÈẻẺẽẼẹẸếẾềỀểỂễỄệỆ'\n",
        "    'iIíÍìÌỉỈĩĨịỊ'\n",
        "    'oOôÔơƠóÓòÒỏỎõÕọỌốỐồỒổỔỗỖộỘớỚờỜởỞỡỠợỢ'\n",
        "    'uUưƯúÚùÙủỦũŨụỤứỨừỪửỬữỮựỰ'\n",
        "    'yYýÝỳỲỷỶỹỸ'\n",
        ")\n",
        "full_letters = vowel + list('bBcCdDđĐgGhHkKlLmMnNpPqQrRsStTvVxXzZ')\n",
        "alphabet = ['\\x00', ' '] + list('0123456789') + full_letters\n",
        "\n",
        "region = {\n",
        "    # Lẫn lộn dấu hỏi và ngã\n",
        "    'ả': 'ã', 'ã': 'ả',\n",
        "    'Ả': 'Ã', 'Ã': 'Ả',\n",
        "    'ẻ': 'ẽ', 'ẽ': 'ẻ',\n",
        "    'Ẻ': 'Ẽ', 'Ẽ': 'Ẻ',\n",
        "    'ỉ': 'ĩ', 'ĩ': 'ỉ',\n",
        "    'Ỉ': 'Ĩ', 'Ĩ': 'Ỉ',\n",
        "    'ỏ': 'õ', 'õ': 'ỏ',\n",
        "    'Ỏ': 'Õ', 'Õ': 'Ỏ',\n",
        "    'ủ': 'ũ', 'ũ': 'ủ',\n",
        "    'Ủ': 'Ũ', 'Ũ': 'Ủ',\n",
        "    'ỷ': 'ỹ', 'ỹ': 'ỷ',\n",
        "    'Ỷ': 'Ỹ', 'Ỹ': 'Ỷ',\n",
        "\n",
        "    # Một số vùng nói nhẹ dấu sắc thành ngang\n",
        "    'á': 'a', 'é': 'e', 'í': 'i', 'ó': 'o', 'ú': 'u', 'ý': 'y',\n",
        "    'Á': 'A', 'É': 'E', 'Í': 'I', 'Ó': 'O', 'Ú': 'U', 'Ý': 'Y',\n",
        "\n",
        "    # Một số vùng lẫn sắc - hỏi hoặc sắc - ngã\n",
        "    'á': 'ả', 'ả': 'á', 'á': 'ã', 'ã': 'á',\n",
        "    'Á': 'Ả', 'Ả': 'Á', 'Á': 'Ã', 'Ã': 'Á',\n",
        "\n",
        "    # Cặp phổ biến khác\n",
        "    'ạ': 'a', 'ẹ': 'e', 'ị': 'i', 'ọ': 'o', 'ụ': 'u', 'ỵ': 'y',\n",
        "    'Ạ': 'A', 'Ẹ': 'E', 'Ị': 'I', 'Ọ': 'O', 'Ụ': 'U', 'Ỵ': 'Y'\n",
        "}\n"
      ]
    },
    {
      "cell_type": "code",
      "source": [
        "from google.colab import drive\n",
        "drive.mount('/content/drive')"
      ],
      "metadata": {
        "colab": {
          "base_uri": "https://localhost:8080/"
        },
        "id": "tgXwtqZdbXXJ",
        "outputId": "3ef4a8e2-a4b3-4cd5-fd5c-d0dc35b0042e"
      },
      "id": "tgXwtqZdbXXJ",
      "execution_count": null,
      "outputs": [
        {
          "output_type": "stream",
          "name": "stdout",
          "text": [
            "Mounted at /content/drive\n"
          ]
        }
      ]
    },
    {
      "cell_type": "markdown",
      "id": "103e9f13-79de-4f63-b353-243c791e126d",
      "metadata": {
        "id": "103e9f13-79de-4f63-b353-243c791e126d"
      },
      "source": [
        "# 2. Hàm encoder và decoder tương ứng với mô hình đã huấn luyện"
      ]
    },
    {
      "cell_type": "code",
      "execution_count": null,
      "id": "a60cad71-86fd-4740-af30-55cf2cb7ad9c",
      "metadata": {
        "id": "a60cad71-86fd-4740-af30-55cf2cb7ad9c"
      },
      "outputs": [],
      "source": [
        "# Đệm '\\x00' vào cuối của các cụm ngrams có độ dài < độ dài tối đa là 39\n",
        "# One-hot encoding\n",
        "def _encoder_data(text):\n",
        "    x = np.zeros((MAXLEN, len(alphabet)))\n",
        "    i = 0\n",
        "    for c in text[:MAXLEN]:\n",
        "        if c in alphabet:  # Chỉ xử lý ký tự có trong alphabet\n",
        "            x[i, alphabet.index(c)] = 1\n",
        "            i += 1\n",
        "        if i >= MAXLEN:\n",
        "            break\n",
        "    # Đệm '\\x00' cho các vị trí còn lại\n",
        "    for j in range(i, MAXLEN):\n",
        "        x[j, 0] = 1\n",
        "    return x\n",
        "\n",
        "# Ghép các ký tự dựa vào vector one-hot\n",
        "def _decoder_data(x):\n",
        "    x = x.argmax(axis = -1)\n",
        "    return ''.join(alphabet[i] for i in x)"
      ]
    },
    {
      "cell_type": "code",
      "execution_count": null,
      "id": "8a73b7fd-1e39-43aa-a7bb-702b657713de",
      "metadata": {
        "colab": {
          "base_uri": "https://localhost:8080/"
        },
        "id": "8a73b7fd-1e39-43aa-a7bb-702b657713de",
        "outputId": "b890fc24-1534-4867-bbdd-b9497719333f"
      },
      "outputs": [
        {
          "output_type": "stream",
          "name": "stdout",
          "text": [
            "(39, 190)\n",
            "Tôi tên là Nguyễn Văn An\u0000\u0000\u0000\u0000\u0000\u0000\u0000\u0000\u0000\u0000\u0000\u0000\u0000\u0000\u0000\n"
          ]
        }
      ],
      "source": [
        "print(_encoder_data('Tôi tên là Nguyễn Văn An').shape)\n",
        "print(_decoder_data(_encoder_data('Tôi tên là Nguyễn Văn An')))"
      ]
    },
    {
      "cell_type": "markdown",
      "id": "461bc12d-03c8-4bcf-9f53-4eab9526178c",
      "metadata": {
        "id": "461bc12d-03c8-4bcf-9f53-4eab9526178c"
      },
      "source": [
        "# 3. Các hàm sẽ sử dụng để sửa lỗi chính tả trong văn bản Tiếng Việt"
      ]
    },
    {
      "cell_type": "markdown",
      "id": "9c4d29d2-50a3-466a-a19d-40a710318919",
      "metadata": {
        "id": "9c4d29d2-50a3-466a-a19d-40a710318919"
      },
      "source": [
        "### Hàm tách các câu thành các ngrams"
      ]
    },
    {
      "cell_type": "code",
      "execution_count": null,
      "id": "91838ef3-fa99-49cd-9ca6-c519ac3541b6",
      "metadata": {
        "id": "91838ef3-fa99-49cd-9ca6-c519ac3541b6"
      },
      "outputs": [],
      "source": [
        "def _nltk_ngrams(sentence, n, maxlen):\n",
        "    list_ngrams = []\n",
        "    list_words = sentence.split()\n",
        "    num_words = len(list_words)\n",
        "\n",
        "    if (num_words >= n):\n",
        "        for ngram in nltk.ngrams(list_words, n):\n",
        "            if len(' '.join(ngram)) <= maxlen:\n",
        "                list_ngrams.append(ngram)\n",
        "    else:\n",
        "        list_ngrams.append(tuple(list_words))\n",
        "    return list_ngrams"
      ]
    },
    {
      "cell_type": "code",
      "execution_count": null,
      "id": "8d350584-05b6-4e5e-9f27-a7da7ed1fb23",
      "metadata": {
        "colab": {
          "base_uri": "https://localhost:8080/"
        },
        "id": "8d350584-05b6-4e5e-9f27-a7da7ed1fb23",
        "outputId": "bb77c678-bc14-42ac-a595-3afdbf3d2dbf"
      },
      "outputs": [
        {
          "output_type": "execute_result",
          "data": {
            "text/plain": [
              "[('Xuwr', 'ný', 'ngoon', 'ngữ', 'tuwj'),\n",
              " ('ný', 'ngoon', 'ngữ', 'tuwj', 'nhêin')]"
            ]
          },
          "metadata": {},
          "execution_count": 7
        }
      ],
      "source": [
        "_nltk_ngrams('Xuwr ný ngoon ngữ tuwj nhêin', NGRAM, MAXLEN)"
      ]
    },
    {
      "cell_type": "markdown",
      "id": "d0e6fa3a-db6b-4e16-96dc-882ef45b82b9",
      "metadata": {
        "id": "d0e6fa3a-db6b-4e16-96dc-882ef45b82b9"
      },
      "source": [
        "### Hàm dự đoán ngram bằng mô hình"
      ]
    },
    {
      "cell_type": "code",
      "execution_count": null,
      "id": "053709d2-06dd-4173-af14-f7e0e4d79f2c",
      "metadata": {
        "id": "053709d2-06dd-4173-af14-f7e0e4d79f2c"
      },
      "outputs": [],
      "source": [
        "def _guess(ngram):\n",
        "    text = ' '.join(ngram)\n",
        "    x = _encoder_data(text)                    # shape: (MAXLEN, len(alphabet))\n",
        "    x = np.expand_dims(x, axis=0)              # shape: (1, MAXLEN, len(alphabet)) đúng chuẩn batch input\n",
        "    preds = model.predict(x)                   # output shape: (1, MAXLEN, len(alphabet))\n",
        "    return _decoder_data(preds[0]).strip('\\x00')"
      ]
    },
    {
      "cell_type": "code",
      "execution_count": null,
      "id": "5b9928f7-245c-4717-88f7-2b962d54f508",
      "metadata": {
        "colab": {
          "base_uri": "https://localhost:8080/",
          "height": 53
        },
        "id": "5b9928f7-245c-4717-88f7-2b962d54f508",
        "outputId": "20c72856-584f-4647-dbad-bc290dea7ca5"
      },
      "outputs": [
        {
          "output_type": "stream",
          "name": "stdout",
          "text": [
            "\u001b[1m1/1\u001b[0m \u001b[32m━━━━━━━━━━━━━━━━━━━━\u001b[0m\u001b[37m\u001b[0m \u001b[1m1s\u001b[0m 1s/step\n"
          ]
        },
        {
          "output_type": "execute_result",
          "data": {
            "text/plain": [
              "'Xử lý ngồn ngg tu'"
            ],
            "application/vnd.google.colaboratory.intrinsic+json": {
              "type": "string"
            }
          },
          "metadata": {},
          "execution_count": 9
        }
      ],
      "source": [
        "_guess(('Xuwr', 'ný', 'ngoon', 'ngữ', 'tuwj'))"
      ]
    },
    {
      "cell_type": "markdown",
      "id": "27f124d3-4402-4230-bc9a-161eec0d8404",
      "metadata": {
        "id": "27f124d3-4402-4230-bc9a-161eec0d8404"
      },
      "source": [
        "### Hàm thêm dấu câu sau khi sửa lỗi chính tả"
      ]
    },
    {
      "cell_type": "code",
      "execution_count": null,
      "id": "f4b4773d-759e-48c2-80ce-f53604abd25a",
      "metadata": {
        "id": "f4b4773d-759e-48c2-80ce-f53604abd25a"
      },
      "outputs": [],
      "source": [
        "def _add_punctuation(text, corrected_text):\n",
        "    list_punctuation = {}\n",
        "    for (i,word) in enumerate(text.split()):\n",
        "        if word[0] not in alphabet or word[-1] not in alphabet:\n",
        "            #Dấu ở đầu chữ như \" và '\n",
        "            start_punc = ''\n",
        "            for c in word:\n",
        "                if c in alphabet:\n",
        "                    break\n",
        "                start_punc += c\n",
        "            #Dấu ở sau chữ như .?!,;:\n",
        "            end_punc = ''\n",
        "            for c in word[::-1]:\n",
        "                if c in alphabet:\n",
        "                    break\n",
        "                end_punc += c\n",
        "            end_punc = end_punc[::-1]\n",
        "            # Lưu vị trí từ và dấu câu trong từ đó\n",
        "            list_punctuation[i] = [start_punc, end_punc]\n",
        "    result = ''\n",
        "    for (i, word) in enumerate(corrected_text.split()):\n",
        "        if i in list_punctuation:\n",
        "            result += (list_punctuation[i][0] + word + list_punctuation[i][1]) + ' '\n",
        "        else:\n",
        "            result += word + ' '\n",
        "    return result.strip()"
      ]
    },
    {
      "cell_type": "markdown",
      "id": "368f2fe4-0354-4ee3-8347-6a79669e74d3",
      "metadata": {
        "id": "368f2fe4-0354-4ee3-8347-6a79669e74d3"
      },
      "source": [
        "### Hàm sửa lỗi chính tả trong câu"
      ]
    },
    {
      "cell_type": "code",
      "execution_count": null,
      "id": "0591008d-1e8f-406b-8caa-206354522dc9",
      "metadata": {
        "id": "0591008d-1e8f-406b-8caa-206354522dc9"
      },
      "outputs": [],
      "source": [
        "def _correct(text):\n",
        "    #xoá các ký tự đặc biệt\n",
        "    new_text = re.sub(r'[^' + ''.join(alphabet) + ']', '', text)\n",
        "    ngrams = list(_nltk_ngrams(new_text, NGRAM, MAXLEN))\n",
        "    guessed_ngrams = list(_guess(ngram) for ngram in ngrams)\n",
        "    candidates = [Counter() for _ in range(len(guessed_ngrams) + NGRAM - 1)]\n",
        "    for nid, ngram in (enumerate(guessed_ngrams)):\n",
        "        for wid, word in (enumerate(re.split('\\s', ngram))):\n",
        "            candidates[nid + wid].update([word])\n",
        "    corrected_text = ' '.join(c.most_common(1)[0][0] for c in candidates if c)\n",
        "    return _add_punctuation(text, corrected_text)"
      ]
    },
    {
      "cell_type": "code",
      "execution_count": null,
      "id": "070f8962-2730-41af-9432-dc4fc889c1b4",
      "metadata": {
        "colab": {
          "base_uri": "https://localhost:8080/",
          "height": 70
        },
        "id": "070f8962-2730-41af-9432-dc4fc889c1b4",
        "outputId": "ac0797b4-f2ee-4d83-94a2-47e0b4f96706"
      },
      "outputs": [
        {
          "output_type": "stream",
          "name": "stdout",
          "text": [
            "\u001b[1m1/1\u001b[0m \u001b[32m━━━━━━━━━━━━━━━━━━━━\u001b[0m\u001b[37m\u001b[0m \u001b[1m0s\u001b[0m 62ms/step\n",
            "\u001b[1m1/1\u001b[0m \u001b[32m━━━━━━━━━━━━━━━━━━━━\u001b[0m\u001b[37m\u001b[0m \u001b[1m0s\u001b[0m 56ms/step\n"
          ]
        },
        {
          "output_type": "execute_result",
          "data": {
            "text/plain": [
              "'Xử lý ngồn ngg tuwj nhiên'"
            ],
            "application/vnd.google.colaboratory.intrinsic+json": {
              "type": "string"
            }
          },
          "metadata": {},
          "execution_count": 16
        }
      ],
      "source": [
        "text = 'Xuwr ný ngoon ngữ tuwj nhêin'\n",
        "_correct(text)"
      ]
    },
    {
      "cell_type": "markdown",
      "id": "b72700e3-e6f6-4061-934b-b77026d628b4",
      "metadata": {
        "id": "b72700e3-e6f6-4061-934b-b77026d628b4"
      },
      "source": [
        "# 4. Kết quả khi áp dụng mô hình"
      ]
    },
    {
      "cell_type": "code",
      "execution_count": null,
      "id": "d507c5ef-a704-45ea-abdb-77146cafbf4e",
      "metadata": {
        "colab": {
          "base_uri": "https://localhost:8080/"
        },
        "id": "d507c5ef-a704-45ea-abdb-77146cafbf4e",
        "outputId": "d20e3e7d-ce05-4d5e-e678-9ccd1bb1659d"
      },
      "outputs": [
        {
          "output_type": "stream",
          "name": "stdout",
          "text": [
            "hômm nay laf thuws nam\n",
            "\u001b[1m1/1\u001b[0m \u001b[32m━━━━━━━━━━━━━━━━━━━━\u001b[0m\u001b[37m\u001b[0m \u001b[1m0s\u001b[0m 67ms/step\n",
            "hômm nay làf thứ nam\n"
          ]
        },
        {
          "output_type": "execute_result",
          "data": {
            "text/plain": [
              "[('la', 'là'), ('thus', 'thứ')]"
            ]
          },
          "metadata": {},
          "execution_count": 18
        }
      ],
      "source": [
        "#Nhập vào văn bản muốn sửa lỗi chính tả\n",
        "text = input()\n",
        "\n",
        "#Văn bản sau khi sửa lỗi chính tả\n",
        "result = _correct(text)\n",
        "print(result)\n",
        "\n",
        "#Xoá bỏ ký tự đặc biệt\n",
        "text = re.sub(r'[^' + ''.join(alphabet) + ']', '', text)\n",
        "list_text = text.split()\n",
        "\n",
        "result = re.sub(r'[^' + ''.join(alphabet) + ']', '', result)\n",
        "list_result = result.split()\n",
        "\n",
        "#Hiển thị những từ đã sửa\n",
        "corrected_word = [(list_text[i], list_result[i]) for i in range(len(list_text)) if list_text[i] != list_result[i]]\n",
        "corrected_word"
      ]
    }
  ],
  "metadata": {
    "kernelspec": {
      "display_name": "py311",
      "language": "python",
      "name": "py311"
    },
    "language_info": {
      "codemirror_mode": {
        "name": "ipython",
        "version": 3
      },
      "file_extension": ".py",
      "mimetype": "text/x-python",
      "name": "python",
      "nbconvert_exporter": "python",
      "pygments_lexer": "ipython3",
      "version": "3.11.11"
    },
    "colab": {
      "provenance": []
    }
  },
  "nbformat": 4,
  "nbformat_minor": 5
}